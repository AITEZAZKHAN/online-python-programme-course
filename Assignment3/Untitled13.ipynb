{
 "cells": [
  {
   "cell_type": "code",
   "execution_count": 4,
   "id": "66683269",
   "metadata": {},
   "outputs": [
    {
     "name": "stdout",
     "output_type": "stream",
     "text": [
      "Enter your first namesajjad\n",
      "Enter your seconed namekhan\n",
      "nahkdajjas\n"
     ]
    }
   ],
   "source": [
    "A=input(\"Enter your first name\");\n",
    "B=input(\"Enter your seconed name\");\n",
    "last=A+B;\n",
    "print(last[::-1])\n",
    "#last.reverse()\n",
    "#print(last);"
   ]
  },
  {
   "cell_type": "code",
   "execution_count": 5,
   "id": "45befde6",
   "metadata": {},
   "outputs": [
    {
     "ename": "SyntaxError",
     "evalue": "invalid syntax (<ipython-input-5-7a31122faa25>, line 5)",
     "output_type": "error",
     "traceback": [
      "\u001b[1;36m  File \u001b[1;32m\"<ipython-input-5-7a31122faa25>\"\u001b[1;36m, line \u001b[1;32m5\u001b[0m\n\u001b[1;33m    print(stringlenght::-1)\u001b[0m\n\u001b[1;37m                      ^\u001b[0m\n\u001b[1;31mSyntaxError\u001b[0m\u001b[1;31m:\u001b[0m invalid syntax\n"
     ]
    }
   ],
   "source": [
    "A=input(\"Enter your first name\");\n",
    "B=input(\"Enter your seconed name\");\n",
    "last=A+B;\n",
    "stringlenght=len(last);\n",
    "print(stringlenght::-1)\n"
   ]
  },
  {
   "cell_type": "code",
   "execution_count": 18,
   "id": "8d594b12",
   "metadata": {},
   "outputs": [
    {
     "name": "stdout",
     "output_type": "stream",
     "text": [
      "Enter your first name\tali\n",
      "Enter your seconed namekhan\n",
      "nahk ila\n"
     ]
    }
   ],
   "source": [
    "A=input(\"Enter your first name\\t\");\n",
    "B=input(\"Enter your seconed name\");\n",
    "last=A+\" \"+B;\n",
    "stringlenght=len(last);\n",
    "slice=last[stringlenght::-1]\n",
    "print(slice)"
   ]
  },
  {
   "cell_type": "code",
   "execution_count": 17,
   "id": "81f4e2eb",
   "metadata": {},
   "outputs": [
    {
     "name": "stdout",
     "output_type": "stream",
     "text": [
      "Enter your first nameali\n",
      "Enter your seconed namekhan\n",
      "ali                                               khan\n"
     ]
    }
   ],
   "source": [
    "A=input(\"Enter your first name\");\n",
    "B=input(\"Enter your seconed name\");\n",
    "last=A+\"                                               \"+B;\n",
    "print(last)"
   ]
  },
  {
   "cell_type": "code",
   "execution_count": 4,
   "id": "cb17e1b2",
   "metadata": {},
   "outputs": [
    {
     "name": "stdout",
     "output_type": "stream",
     "text": [
      "Enter any number1222333436\n",
      "odd\n"
     ]
    }
   ],
   "source": [
    "num=int(input(\"Enter any number\"));\n",
    "#if(num%2==0):\n",
    "if(num/2==0):\n",
    "    print(\"even\");\n",
    "else:\n",
    "    print(\"odd\");\n"
   ]
  },
  {
   "cell_type": "code",
   "execution_count": 5,
   "id": "817ba74d",
   "metadata": {},
   "outputs": [
    {
     "name": "stdout",
     "output_type": "stream",
     "text": [
      "7\n"
     ]
    }
   ],
   "source": [
    "a=[2,4,5,'a',4,\"a\"]\n",
    "b=len(a)\n",
    "print(b)"
   ]
  },
  {
   "cell_type": "code",
   "execution_count": 9,
   "id": "8c87fc4b",
   "metadata": {},
   "outputs": [
    {
     "ename": "NameError",
     "evalue": "name 'sub' is not defined",
     "output_type": "error",
     "traceback": [
      "\u001b[1;31m---------------------------------------------------------------------------\u001b[0m",
      "\u001b[1;31mNameError\u001b[0m                                 Traceback (most recent call last)",
      "\u001b[1;32m<ipython-input-9-1a1b69a49033>\u001b[0m in \u001b[0;36m<module>\u001b[1;34m\u001b[0m\n\u001b[0;32m      1\u001b[0m \u001b[0mnum\u001b[0m\u001b[1;33m=\u001b[0m\u001b[1;33m[\u001b[0m\u001b[1;36m1\u001b[0m\u001b[1;33m,\u001b[0m\u001b[1;36m2\u001b[0m\u001b[1;33m]\u001b[0m\u001b[1;33m\u001b[0m\u001b[1;33m\u001b[0m\u001b[0m\n\u001b[1;32m----> 2\u001b[1;33m \u001b[0msub\u001b[0m\u001b[1;33m(\u001b[0m\u001b[0mnum\u001b[0m\u001b[1;33m)\u001b[0m\u001b[1;33m\u001b[0m\u001b[1;33m\u001b[0m\u001b[0m\n\u001b[0m\u001b[0;32m      3\u001b[0m \u001b[0mprint\u001b[0m\u001b[1;33m(\u001b[0m\u001b[0madd\u001b[0m\u001b[1;33m)\u001b[0m\u001b[1;33m\u001b[0m\u001b[1;33m\u001b[0m\u001b[0m\n",
      "\u001b[1;31mNameError\u001b[0m: name 'sub' is not defined"
     ]
    }
   ],
   "source": [
    "num=[1,2]\n",
    "sub(num)\n",
    "print(add)"
   ]
  },
  {
   "cell_type": "code",
   "execution_count": 12,
   "id": "442e819b",
   "metadata": {},
   "outputs": [
    {
     "name": "stdout",
     "output_type": "stream",
     "text": [
      "88\n",
      "0\n"
     ]
    }
   ],
   "source": [
    "a=[2,4,5,66,6,17,88,3,0]\n",
    "maxe=max(a)\n",
    "mini=min(a)\n",
    "print(maxe)\n",
    "print(mini)"
   ]
  },
  {
   "cell_type": "code",
   "execution_count": null,
   "id": "7bb9c501",
   "metadata": {},
   "outputs": [],
   "source": []
  }
 ],
 "metadata": {
  "kernelspec": {
   "display_name": "Python 3",
   "language": "python",
   "name": "python3"
  },
  "language_info": {
   "codemirror_mode": {
    "name": "ipython",
    "version": 3
   },
   "file_extension": ".py",
   "mimetype": "text/x-python",
   "name": "python",
   "nbconvert_exporter": "python",
   "pygments_lexer": "ipython3",
   "version": "3.8.8"
  }
 },
 "nbformat": 4,
 "nbformat_minor": 5
}
