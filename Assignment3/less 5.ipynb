{
 "cells": [
  {
   "cell_type": "code",
   "execution_count": 1,
   "id": "df527413",
   "metadata": {},
   "outputs": [
    {
     "name": "stdout",
     "output_type": "stream",
     "text": [
      "1\n",
      "0\n",
      "-1\n",
      "1\n",
      "2\n",
      "3\n",
      "4\n",
      "2\n"
     ]
    }
   ],
   "source": []
  },
  {
   "cell_type": "code",
   "execution_count": 2,
   "id": "412c8217",
   "metadata": {},
   "outputs": [
    {
     "name": "stdout",
     "output_type": "stream",
     "text": [
      "1\n",
      "2\n",
      "0\n",
      "0.1\n"
     ]
    }
   ],
   "source": [
    "s=[9,8,7,1,2,5,7,0,0.1];\n",
    "for i in s:\n",
    "    if(i<5):\n",
    "        print(i);"
   ]
  },
  {
   "cell_type": "code",
   "execution_count": 4,
   "id": "fa8b5f5e",
   "metadata": {},
   "outputs": [
    {
     "name": "stdout",
     "output_type": "stream",
     "text": [
      "1\n",
      "2\n",
      "5\n",
      "0\n",
      "0.1\n"
     ]
    }
   ],
   "source": [
    "s=[9,8,7,1,2,5,7,0,0.1];\n",
    "for i in s:\n",
    "    if(i<5):\n",
    "        print(i);"
   ]
  },
  {
   "cell_type": "code",
   "execution_count": 12,
   "id": "8c976c46",
   "metadata": {},
   "outputs": [
    {
     "name": "stdout",
     "output_type": "stream",
     "text": [
      "Twinkle,Twinkle, Little, Star,\n",
      "\n",
      "\t How i wonder what you are!\n",
      "\t\t up above the world high,\n",
      "\t\t Like a diamond in the sky.\n",
      "Twinkle,Twinkle, Little, Star,\n",
      "\t How i wonder what yuo are\n"
     ]
    }
   ],
   "source": [
    "print('Twinkle,Twinkle, Little, Star,\\n\\n\\t How i wonder what you are!\\n\\t\\t up above the world high,\\n\\t\\t Like a diamond in the sky.\\nTwinkle,Twinkle, Little, Star,\\n\\t How i wonder what yuo are');\n",
    "#print(a);"
   ]
  },
  {
   "cell_type": "code",
   "execution_count": 15,
   "id": "515cc106",
   "metadata": {},
   "outputs": [
    {
     "name": "stdout",
     "output_type": "stream",
     "text": [
      "Enter a radius of a circle4\n",
      "50.285714285714285\n"
     ]
    }
   ],
   "source": [
    "r=int(input(\"Enter a radius of a circle\"));\n",
    "A=((22/7)*(r*r));\n",
    "print(A);"
   ]
  },
  {
   "cell_type": "code",
   "execution_count": 18,
   "id": "f9d62cf8",
   "metadata": {},
   "outputs": [
    {
     "name": "stdout",
     "output_type": "stream",
     "text": [
      "Enter a radius of a circle4.5\n",
      "63.64285714285714\n"
     ]
    }
   ],
   "source": [
    "r=float(input(\"Enter a radius of a circle\"));\n",
    "A=float((22/7)*(r*r));\n",
    "print(A);"
   ]
  },
  {
   "cell_type": "code",
   "execution_count": null,
   "id": "6fd3b9f9",
   "metadata": {},
   "outputs": [],
   "source": [
    "A=input(\"Enter your first name\");\n",
    "B=input(\"Enter your seconed name\");\n",
    "last=A + B;\n",
    "last.reverse()\n",
    "print(last);\n",
    "#print(last[0:-2]);"
   ]
  },
  {
   "cell_type": "code",
   "execution_count": null,
   "id": "ac274882",
   "metadata": {},
   "outputs": [],
   "source": [
    "A=input(\"Enter your first name\");\n",
    "B=input(\"Enter your seconed name\");\n",
    "last=A + B;\n",
    "last.reverse()\n",
    "print(last);"
   ]
  },
  {
   "cell_type": "code",
   "execution_count": null,
   "id": "ed657540",
   "metadata": {},
   "outputs": [],
   "source": []
  }
 ],
 "metadata": {
  "kernelspec": {
   "display_name": "Python 3",
   "language": "python",
   "name": "python3"
  },
  "language_info": {
   "codemirror_mode": {
    "name": "ipython",
    "version": 3
   },
   "file_extension": ".py",
   "mimetype": "text/x-python",
   "name": "python",
   "nbconvert_exporter": "python",
   "pygments_lexer": "ipython3",
   "version": "3.8.8"
  }
 },
 "nbformat": 4,
 "nbformat_minor": 5
}
