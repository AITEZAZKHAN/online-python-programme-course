{
 "cells": [
  {
   "cell_type": "code",
   "execution_count": 3,
   "id": "7c6f4eb2",
   "metadata": {},
   "outputs": [
    {
     "name": "stdout",
     "output_type": "stream",
     "text": [
      "215\n",
      "your percentage is 71.66666666666667\n",
      " Excellent\n"
     ]
    }
   ],
   "source": [
    "mathematics =80;\n",
    "english=65;\n",
    "islamiat =70;\n",
    "\n",
    "\n",
    "T_marks =300;\n",
    "\n",
    "obtain_marks =  islamiat + mathematics + english\n",
    "percent=(obtain_marks*100/300);\n",
    "\n",
    "print(obtain_marks)\n",
    "print(\"your percentage is\",(percent))\n",
    "\n",
    "if obtain_marks >250:\n",
    "    print(\"Outstanding\")\n",
    "    \n",
    "elif obtain_marks >210:\n",
    "        print(\" Excellent\")\n",
    "        \n",
    "elif obtain_marks >160:\n",
    "        print(\"Very good\")\n",
    "        \n",
    "else:\n",
    "      print(\" Elligible\")"
   ]
  },
  {
   "cell_type": "code",
   "execution_count": null,
   "id": "cbf6e952",
   "metadata": {},
   "outputs": [],
   "source": []
  }
 ],
 "metadata": {
  "kernelspec": {
   "display_name": "Python 3",
   "language": "python",
   "name": "python3"
  },
  "language_info": {
   "codemirror_mode": {
    "name": "ipython",
    "version": 3
   },
   "file_extension": ".py",
   "mimetype": "text/x-python",
   "name": "python",
   "nbconvert_exporter": "python",
   "pygments_lexer": "ipython3",
   "version": "3.8.8"
  }
 },
 "nbformat": 4,
 "nbformat_minor": 5
}
