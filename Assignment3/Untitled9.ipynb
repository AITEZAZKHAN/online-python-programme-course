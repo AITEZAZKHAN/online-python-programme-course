{
 "cells": [
  {
   "cell_type": "code",
   "execution_count": 3,
   "id": "4a509cee",
   "metadata": {},
   "outputs": [
    {
     "name": "stdout",
     "output_type": "stream",
     "text": [
      "231\n",
      "77.0\n",
      "Excellent\n"
     ]
    }
   ],
   "source": [
    "maths =85\n",
    "English=71\n",
    "islamiat =75\n",
    "\n",
    "\n",
    "Total_marks =300;\n",
    "\n",
    "obtain_marks =  maths + English + islamiat \n",
    "percentage=(obtain_marks*100/300)\n",
    "\n",
    "print(obtain_marks)\n",
    "print(percentage)\n",
    "\n",
    "if (obtain_marks >240):\n",
    "    print(\" you are Outstanding\")\n",
    "     \n",
    "elif (obtain_marks >200):\n",
    "        print(\" you are Excellent\")\n",
    "        \n",
    "elif (obtain_marks >166):\n",
    "        print(\" you are Very good\")\n",
    "        \n",
    "else:\n",
    "      print(\" you are Elligible\")\n"
   ]
  },
  {
   "cell_type": "code",
   "execution_count": null,
   "id": "39c9590f",
   "metadata": {},
   "outputs": [],
   "source": []
  }
 ],
 "metadata": {
  "kernelspec": {
   "display_name": "Python 3",
   "language": "python",
   "name": "python3"
  },
  "language_info": {
   "codemirror_mode": {
    "name": "ipython",
    "version": 3
   },
   "file_extension": ".py",
   "mimetype": "text/x-python",
   "name": "python",
   "nbconvert_exporter": "python",
   "pygments_lexer": "ipython3",
   "version": "3.8.8"
  }
 },
 "nbformat": 4,
 "nbformat_minor": 5
}
