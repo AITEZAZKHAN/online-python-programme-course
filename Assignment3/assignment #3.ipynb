{
 "cells": [
  {
   "cell_type": "code",
   "execution_count": 3,
   "id": "257b6d22",
   "metadata": {},
   "outputs": [
    {
     "name": "stdout",
     "output_type": "stream",
     "text": [
      "Twinkle,Twinkle, Little, Star,\n",
      "\t How i wonder what you are!\n",
      "\t\t up above the world high,\n",
      "\t\t Like a diamond in the sky.\n",
      "Twinkle,Twinkle, Little, Star,\n",
      "\t How i wonder what yuo are\n"
     ]
    }
   ],
   "source": [
    "# QUESTION NO 1.\n",
    "a=('Twinkle,Twinkle, Little, Star,\\n\\t How i wonder what you are!\\n\\t\\t up above the world high,\\n\\t\\t Like a diamond in the sky.\\nTwinkle,Twinkle, Little, Star,\\n\\t How i wonder what yuo are');\n",
    "print(a);"
   ]
  },
  {
   "cell_type": "code",
   "execution_count": 6,
   "id": "a293f220",
   "metadata": {},
   "outputs": [
    {
     "name": "stdout",
     "output_type": "stream",
     "text": [
      "3.8.8\n"
     ]
    }
   ],
   "source": [
    "# QUESTION NO 2.\n",
    "import platform\n",
    "print(platform.python_version())"
   ]
  },
  {
   "cell_type": "code",
   "execution_count": 11,
   "id": "9c32819d",
   "metadata": {},
   "outputs": [
    {
     "name": "stdout",
     "output_type": "stream",
     "text": [
      "today date is: 2021-10-23\n"
     ]
    }
   ],
   "source": [
    "# QUESTION NO 3.\n",
    "from datetime import date\n",
    "today=date.today()\n",
    "print(\"today date is:\",today)"
   ]
  },
  {
   "cell_type": "code",
   "execution_count": 15,
   "id": "79becac5",
   "metadata": {},
   "outputs": [
    {
     "name": "stdout",
     "output_type": "stream",
     "text": [
      "enterb radius of a circle 4.2\n",
      "55.44\n"
     ]
    }
   ],
   "source": [
    "# QUESTION NO 4.\n",
    "radius=float(input(\"enterb radius of a circle \"))\n",
    "area=(22/7 *(radius*radius))\n",
    "print(area)"
   ]
  },
  {
   "cell_type": "code",
   "execution_count": 16,
   "id": "7a2f9098",
   "metadata": {},
   "outputs": [
    {
     "name": "stdout",
     "output_type": "stream",
     "text": [
      "enter first name aitezaz\n",
      "enter second namekhan\n",
      "nahk zazetia\n"
     ]
    }
   ],
   "source": [
    "# QUESTION NO 5.\n",
    "first_name=input(\"enter first name \")\n",
    "second_name=input(\"enter second name\")\n",
    "full_name=first_name+\" \"+second_name\n",
    "print(full_name[::-1])"
   ]
  },
  {
   "cell_type": "code",
   "execution_count": 20,
   "id": "80ac6289",
   "metadata": {},
   "outputs": [
    {
     "name": "stdout",
     "output_type": "stream",
     "text": [
      "389\n",
      "77.8\n",
      " you are Excellent\n"
     ]
    }
   ],
   "source": [
    "# QUESTION NO 7.\n",
    "maths =85\n",
    "English=71\n",
    "islamiat =75\n",
    "physics=88\n",
    "biology=70\n",
    "\n",
    "\n",
    "Total_marks =500;\n",
    "\n",
    "obtain_marks =  maths + English + islamiat + physics + biology\n",
    "percentage=(obtain_marks*100/500)\n",
    "\n",
    "print(obtain_marks)\n",
    "print(percentage)\n",
    "\n",
    "if (obtain_marks <500 and obtain_marks >= 420):\n",
    "    print(\" you are Outstanding\")\n",
    "     \n",
    "elif (obtain_marks <420 and obtain_marks >= 360):\n",
    "        print(\" you are Excellent\")\n",
    "        \n",
    "elif (obtain_marks <360 and obtain_marks>= 300):\n",
    "        print(\" you are Very good\")\n",
    "        \n",
    "elif (obtain_marks <300 and obtain_marks >= 250):\n",
    "        print(\" you are Very good\")\n",
    "                \n",
    "else:\n",
    "      print(\" you are Elligible\")\n"
   ]
  },
  {
   "cell_type": "code",
   "execution_count": 1,
   "id": "a0e2ed68",
   "metadata": {},
   "outputs": [
    {
     "name": "stdout",
     "output_type": "stream",
     "text": [
      "Enter your first input6\n",
      "Enter your seconed input6\n",
      "12\n"
     ]
    }
   ],
   "source": [
    "# QUESTION NO 6.\n",
    "A=int(input(\"Enter your first input\"));\n",
    "B=int(input(\"Enter your seconed input\"));\n",
    "print(A + B)\n"
   ]
  },
  {
   "cell_type": "code",
   "execution_count": 2,
   "id": "9037ce77",
   "metadata": {},
   "outputs": [
    {
     "name": "stdout",
     "output_type": "stream",
     "text": [
      "Enter any number66\n",
      "even\n"
     ]
    }
   ],
   "source": [
    "# QUESTION NO 8.\n",
    "num=int(input(\"Enter any number\"));\n",
    "if(num%2==0):\n",
    "    \n",
    "    print(\"even\");\n",
    "else:\n",
    "    print(\"odd\");"
   ]
  },
  {
   "cell_type": "code",
   "execution_count": 3,
   "id": "07c198ad",
   "metadata": {},
   "outputs": [
    {
     "name": "stdout",
     "output_type": "stream",
     "text": [
      "6\n"
     ]
    }
   ],
   "source": [
    "# QUESTION NO 9.\n",
    "a=[2,4,5,'a',4,\"a\"]\n",
    "b=len(a)\n",
    "print(b)"
   ]
  },
  {
   "cell_type": "code",
   "execution_count": 4,
   "id": "6601e011",
   "metadata": {},
   "outputs": [
    {
     "name": "stdout",
     "output_type": "stream",
     "text": [
      "88\n"
     ]
    }
   ],
   "source": [
    "# QUESTION NO 11.\n",
    "a=[2,4,5,66,6,17,88,3,0]\n",
    "maximum=max(a)\n",
    "print(maximum)"
   ]
  },
  {
   "cell_type": "code",
   "execution_count": 5,
   "id": "e0f5a428",
   "metadata": {},
   "outputs": [
    {
     "name": "stdout",
     "output_type": "stream",
     "text": [
      "4\n",
      "1\n",
      "2\n",
      "0\n",
      "0.1\n"
     ]
    }
   ],
   "source": [
    "# QUESTION NO 12.\n",
    "s=[92,4,8,7,1,2,5,7,0,0.1];\n",
    "for i in s:\n",
    "    if(i<5):\n",
    "        print(i);"
   ]
  },
  {
   "cell_type": "code",
   "execution_count": 16,
   "id": "dbc6789f",
   "metadata": {},
   "outputs": [
    {
     "ename": "IndentationError",
     "evalue": "unexpected indent (<ipython-input-16-8ddacf6d4689>, line 3)",
     "output_type": "error",
     "traceback": [
      "\u001b[1;36m  File \u001b[1;32m\"<ipython-input-16-8ddacf6d4689>\"\u001b[1;36m, line \u001b[1;32m3\u001b[0m\n\u001b[1;33m    for i in list :\u001b[0m\n\u001b[1;37m    ^\u001b[0m\n\u001b[1;31mIndentationError\u001b[0m\u001b[1;31m:\u001b[0m unexpected indent\n"
     ]
    }
   ],
   "source": [
    "# QUESTION NO 10.\n",
    "list=[1,2,\"a\",\"b\",4,\"m\"]\n",
    "       for i in list:\n",
    "         iftype(i)==int:\n",
    "                   print(i)\n",
    "           "
   ]
  },
  {
   "cell_type": "code",
   "execution_count": null,
   "id": "a17bf61b",
   "metadata": {},
   "outputs": [],
   "source": []
  }
 ],
 "metadata": {
  "kernelspec": {
   "display_name": "Python 3",
   "language": "python",
   "name": "python3"
  },
  "language_info": {
   "codemirror_mode": {
    "name": "ipython",
    "version": 3
   },
   "file_extension": ".py",
   "mimetype": "text/x-python",
   "name": "python",
   "nbconvert_exporter": "python",
   "pygments_lexer": "ipython3",
   "version": "3.8.8"
  }
 },
 "nbformat": 4,
 "nbformat_minor": 5
}
