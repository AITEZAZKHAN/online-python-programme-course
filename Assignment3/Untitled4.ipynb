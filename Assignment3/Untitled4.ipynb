{
 "cells": [
  {
   "cell_type": "code",
   "execution_count": 21,
   "id": "6728644f",
   "metadata": {},
   "outputs": [
    {
     "name": "stdout",
     "output_type": "stream",
     "text": [
      "365\n",
      "your percentage is 69.52380952380952\n",
      "  Very good\n"
     ]
    }
   ],
   "source": [
    "mathematics =80\n",
    "urdu =70\n",
    "islamiat =50\n",
    "paksudty =87\n",
    "computerscince =78\n",
    "\n",
    "T_marks =525\n",
    "\n",
    "obtain_marks =  islamiat + mathematics + urdu + paksudty + computerscince\n",
    "percent=(obtain_marks*100/525);\n",
    "\n",
    "print(obtain_marks)\n",
    "print(\"your percentage is\",(percent))\n",
    "\n",
    "if (obtain_marks >420:\n",
    "    print(\"Outstanding\")\n",
    "    \n",
    "elif obtain_marks >370:\n",
    "        print(\" Excellent\")\n",
    "        \n",
    "elif obtain_marks >330:\n",
    "        print(\"Very good\")\n",
    "        \n",
    "else:\n",
    "      print(\" Elligible\")"
   ]
  },
  {
   "cell_type": "code",
   "execution_count": null,
   "id": "51f063c4",
   "metadata": {},
   "outputs": [],
   "source": []
  },
  {
   "cell_type": "code",
   "execution_count": null,
   "id": "3165424c",
   "metadata": {},
   "outputs": [],
   "source": []
  },
  {
   "cell_type": "code",
   "execution_count": null,
   "id": "b2b30635",
   "metadata": {},
   "outputs": [],
   "source": []
  },
  {
   "cell_type": "code",
   "execution_count": null,
   "id": "80967988",
   "metadata": {},
   "outputs": [],
   "source": []
  },
  {
   "cell_type": "code",
   "execution_count": null,
   "id": "97a1beb7",
   "metadata": {},
   "outputs": [],
   "source": []
  },
  {
   "cell_type": "code",
   "execution_count": null,
   "id": "777a01c4",
   "metadata": {},
   "outputs": [],
   "source": []
  }
 ],
 "metadata": {
  "kernelspec": {
   "display_name": "Python 3",
   "language": "python",
   "name": "python3"
  },
  "language_info": {
   "codemirror_mode": {
    "name": "ipython",
    "version": 3
   },
   "file_extension": ".py",
   "mimetype": "text/x-python",
   "name": "python",
   "nbconvert_exporter": "python",
   "pygments_lexer": "ipython3",
   "version": "3.8.8"
  }
 },
 "nbformat": 4,
 "nbformat_minor": 5
}
