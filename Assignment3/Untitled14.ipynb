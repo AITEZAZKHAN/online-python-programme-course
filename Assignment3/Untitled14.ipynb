{
 "cells": [
  {
   "cell_type": "code",
   "execution_count": null,
   "id": "25a3ff36",
   "metadata": {},
   "outputs": [],
   "source": [
    "A=input(\"Enter your first name\");\n",
    "B=input(\"Enter your seconed name\");\n",
    "last=A+B;\n",
    "stringlenght=len(last);\n",
    "print(stringlenght::-1)\n",
    "\n"
   ]
  }
 ],
 "metadata": {
  "kernelspec": {
   "display_name": "Python 3",
   "language": "python",
   "name": "python3"
  },
  "language_info": {
   "codemirror_mode": {
    "name": "ipython",
    "version": 3
   },
   "file_extension": ".py",
   "mimetype": "text/x-python",
   "name": "python",
   "nbconvert_exporter": "python",
   "pygments_lexer": "ipython3",
   "version": "3.8.8"
  }
 },
 "nbformat": 4,
 "nbformat_minor": 5
}
